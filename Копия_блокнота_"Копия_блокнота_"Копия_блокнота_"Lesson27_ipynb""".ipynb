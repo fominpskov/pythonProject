{
  "cells": [
    {
      "cell_type": "markdown",
      "metadata": {
        "id": "view-in-github",
        "colab_type": "text"
      },
      "source": [
        "<a href=\"https://colab.research.google.com/github/fominpskov/pythonProject/blob/master/%D0%9A%D0%BE%D0%BF%D0%B8%D1%8F_%D0%B1%D0%BB%D0%BE%D0%BA%D0%BD%D0%BE%D1%82%D0%B0_%22%D0%9A%D0%BE%D0%BF%D0%B8%D1%8F_%D0%B1%D0%BB%D0%BE%D0%BA%D0%BD%D0%BE%D1%82%D0%B0_%22%D0%9A%D0%BE%D0%BF%D0%B8%D1%8F_%D0%B1%D0%BB%D0%BE%D0%BA%D0%BD%D0%BE%D1%82%D0%B0_%22Lesson27_ipynb%22%22%22.ipynb\" target=\"_parent\"><img src=\"https://colab.research.google.com/assets/colab-badge.svg\" alt=\"Open In Colab\"/></a>"
      ]
    },
    {
      "cell_type": "code",
      "execution_count": null,
      "metadata": {
        "colab": {
          "base_uri": "https://localhost:8080/",
          "height": 428
        },
        "id": "rjncicQGIf5l",
        "outputId": "ec0eaa7a-ebd2-4bc6-c1a5-c030c86c58cb"
      },
      "outputs": [
        {
          "output_type": "stream",
          "name": "stdout",
          "text": [
            "Collecting anvil-uplink\n",
            "  Downloading anvil_uplink-0.3.42-py2.py3-none-any.whl (64 kB)\n",
            "\u001b[?25l\r\u001b[K     |█████                           | 10 kB 19.4 MB/s eta 0:00:01\r\u001b[K     |██████████▏                     | 20 kB 11.4 MB/s eta 0:00:01\r\u001b[K     |███████████████▏                | 30 kB 8.9 MB/s eta 0:00:01\r\u001b[K     |████████████████████▎           | 40 kB 8.4 MB/s eta 0:00:01\r\u001b[K     |█████████████████████████▎      | 51 kB 4.3 MB/s eta 0:00:01\r\u001b[K     |██████████████████████████████▍ | 61 kB 5.1 MB/s eta 0:00:01\r\u001b[K     |████████████████████████████████| 64 kB 2.0 MB/s \n",
            "\u001b[?25hRequirement already satisfied: future in /usr/local/lib/python3.7/dist-packages (from anvil-uplink) (0.16.0)\n",
            "Requirement already satisfied: six in /usr/local/lib/python3.7/dist-packages (from anvil-uplink) (1.15.0)\n",
            "Collecting argparse\n",
            "  Downloading argparse-1.4.0-py2.py3-none-any.whl (23 kB)\n",
            "Collecting ws4py\n",
            "  Downloading ws4py-0.5.1.tar.gz (51 kB)\n",
            "\u001b[K     |████████████████████████████████| 51 kB 177 kB/s \n",
            "\u001b[?25hBuilding wheels for collected packages: ws4py\n",
            "  Building wheel for ws4py (setup.py) ... \u001b[?25l\u001b[?25hdone\n",
            "  Created wheel for ws4py: filename=ws4py-0.5.1-py3-none-any.whl size=45229 sha256=2476fbc9d0150444ce9ffbec8d8496ac6e1c0dfa7792494f36e7260f124c4d72\n",
            "  Stored in directory: /root/.cache/pip/wheels/29/ea/7d/3410aa0aa0e4402ead9a7a97ab2214804887e0f5c2b76f0c96\n",
            "Successfully built ws4py\n",
            "Installing collected packages: ws4py, argparse, anvil-uplink\n",
            "Successfully installed anvil-uplink-0.3.42 argparse-1.4.0 ws4py-0.5.1\n"
          ]
        },
        {
          "output_type": "display_data",
          "data": {
            "application/vnd.colab-display-data+json": {
              "pip_warning": {
                "packages": [
                  "argparse",
                  "google"
                ]
              }
            }
          },
          "metadata": {}
        }
      ],
      "source": [
        "!pip install anvil-uplink"
      ]
    },
    {
      "cell_type": "code",
      "execution_count": null,
      "metadata": {
        "colab": {
          "background_save": true,
          "base_uri": "https://localhost:8080/"
        },
        "id": "dQ0c0KKd-vRB",
        "outputId": "a9402d71-d041-4231-d2cf-421b92378faa"
      },
      "outputs": [
        {
          "output_type": "stream",
          "name": "stdout",
          "text": [
            "Connecting to wss://anvil.works/uplink\n",
            "Anvil websocket open\n",
            "Connected to \"Default Environment\" as SERVER\n",
            "WARNING:tensorflow:No training configuration found in the save file, so the model was *not* compiled. Compile it manually.\n",
            "Я считаю, что на изображении показан\n",
            "[[2.3533474e-15 1.0000000e+00 1.4542210e-10 1.1792267e-13]]\n",
            "1\n",
            "Я считаю, что на изображении показан\n",
            "[[3.3974914e-08 1.5527105e-08 1.0318198e-08 9.9999988e-01]]\n",
            "3\n",
            "Я считаю, что на изображении показан\n",
            "[[9.9998534e-01 1.4667261e-05 3.5861525e-10 1.6220467e-08]]\n",
            "0\n",
            "Я считаю, что на изображении показан\n",
            "[[3.4021020e-12 1.1775648e-03 5.5964045e-07 9.9882191e-01]]\n",
            "3\n",
            "Я считаю, что на изображении показан\n",
            "[[6.0318240e-07 9.9802846e-01 1.9708565e-03 8.1829214e-08]]\n",
            "1\n",
            "Я считаю, что на изображении показан\n",
            "[[4.3295905e-11 9.9999964e-01 3.1730960e-07 7.1134593e-10]]\n",
            "1\n",
            "Я считаю, что на изображении показан\n",
            "[[1.0999220e-12 8.1125604e-09 1.5836438e-11 1.0000000e+00]]\n",
            "3\n"
          ]
        }
      ],
      "source": [
        "from keras.models import load_model\n",
        "from PIL import Image, ImageOps\n",
        "from keras.preprocessing.image import load_img\n",
        "import numpy as np\n",
        "import anvil.server\n",
        "\n",
        "anvil.server.connect(\"server_XPVD333GCFFLDNCXECRZXAQ6-WZGOL4CAMJR5DYTL\")\n",
        "import anvil.media\n",
        "# Load the model\n",
        "model = load_model('keras_model.h5')\n",
        "@anvil.server.callable\n",
        "def predict_pic(pic):\n",
        "  with anvil.media.TempFile(pic) as f:\n",
        "    img = load_img(f)\n",
        "  data = np.ndarray(shape=(1, 224, 224, 3), dtype=np.float32)\n",
        "  size = (224, 224)\n",
        "  image = ImageOps.fit(img, size, Image.ANTIALIAS)\n",
        "  image_array = np.asarray(image)\n",
        "  normalized_image_array = (image_array.astype(np.float32) / 127.0) - 1\n",
        "  data[0] = normalized_image_array\n",
        "  prediction = model.predict(data)\n",
        "  print('Я считаю, что на изображении показан')\n",
        "  print(prediction)\n",
        "  mpred = np.argmax(prediction[0])\n",
        "  print(np.argmax(prediction[0]))\n",
        "  if mpred == 0:\n",
        "    text = 'бизон с вероятностью ' + str(prediction[0][0]*100) + ' %'\n",
        "  elif mpred == 1:\n",
        "    text = 'слон с вероятностью ' + str(prediction[0][1]*100) + ' %'\n",
        "  elif mpred == 2:\n",
        "    text = 'носорог с вероятностью ' +  str(prediction[0][2]*100) + ' %'\n",
        "  else:\n",
        "    text = 'зебра с вероятностью ' +  str(prediction[0][3]*100) + ' %'\n",
        "  \n",
        "  return text\n",
        "anvil.server.wait_forever()"
      ]
    },
    {
      "cell_type": "code",
      "execution_count": null,
      "metadata": {
        "id": "gryeZzL2DbNO"
      },
      "outputs": [],
      "source": [
        ""
      ]
    }
  ],
  "metadata": {
    "colab": {
      "collapsed_sections": [],
      "name": "Копия блокнота \"Копия блокнота \"Копия блокнота \"Lesson27.ipynb\"\"\"",
      "provenance": [],
      "include_colab_link": true
    },
    "kernelspec": {
      "display_name": "Python 3",
      "name": "python3"
    },
    "language_info": {
      "name": "python"
    }
  },
  "nbformat": 4,
  "nbformat_minor": 0
}